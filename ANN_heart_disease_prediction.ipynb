{
 "cells": [
  {
   "cell_type": "code",
   "execution_count": null,
   "metadata": {
    "id": "k5Ukip_S3Oap"
   },
   "outputs": [],
   "source": [
    "import numpy as np \n",
    "import pandas as pd \n",
    "import matplotlib.pyplot as plt\n",
    "import seaborn as sns \n",
    "from sklearn.ensemble import RandomForestClassifier\n",
    "from sklearn.linear_model import LogisticRegression\n",
    "from sklearn.metrics import average_precision_score\n",
    "from sklearn.model_selection import cross_val_score\n",
    "from sklearn.neighbors import KNeighborsClassifier\n",
    "from sklearn.tree import DecisionTreeClassifier\n",
    "from sklearn.metrics import confusion_matrix\n",
    "from sklearn.metrics import accuracy_score\n",
    "from sklearn.metrics import auc\n",
    "from sklearn.svm import SVC\n",
    "%matplotlib inline"
   ]
  },
  {
   "cell_type": "code",
   "execution_count": null,
   "metadata": {
    "id": "J5TVUsf_3Ons"
   },
   "outputs": [],
   "source": [
    "df = pd.read_csv(\"heart.csv\")"
   ]
  },
  {
   "cell_type": "code",
   "execution_count": null,
   "metadata": {
    "id": "JmoguaTB3Ov0"
   },
   "outputs": [],
   "source": [
    "df.describe()"
   ]
  },
  {
   "cell_type": "code",
   "execution_count": null,
   "metadata": {
    "id": "we8S0Erq3O4R"
   },
   "outputs": [],
   "source": [
    "df.info()"
   ]
  },
  {
   "cell_type": "code",
   "execution_count": null,
   "metadata": {
    "id": "Op_TGTTQ3PBF"
   },
   "outputs": [],
   "source": [
    "plt.figure(figsize=(14,10))\n",
    "sns.heatmap(df.corr(),annot=True,cmap='hsv',fmt='.3f',linewidths=2)\n",
    "plt.show()"
   ]
  },
  {
   "cell_type": "code",
   "execution_count": null,
   "metadata": {
    "id": "OHrnWI3o3PJh"
   },
   "outputs": [],
   "source": [
    "df.groupby('cp',as_index=False)['target'].mean()"
   ]
  },
  {
   "cell_type": "code",
   "execution_count": null,
   "metadata": {
    "id": "unN3hJ5H3qUQ"
   },
   "outputs": [],
   "source": [
    "df.groupby('slope',as_index=False)['target'].mean()"
   ]
  },
  {
   "cell_type": "code",
   "execution_count": null,
   "metadata": {
    "id": "CGp7SeU_3q3Q"
   },
   "outputs": [],
   "source": [
    "df.groupby('thal',as_index=False)['target'].mean()"
   ]
  },
  {
   "cell_type": "code",
   "execution_count": null,
   "metadata": {
    "id": "A12CLGBl3yWh"
   },
   "outputs": [],
   "source": [
    "df.groupby('target').mean()"
   ]
  },
  {
   "cell_type": "code",
   "execution_count": null,
   "metadata": {
    "id": "TVUqxod030mP"
   },
   "outputs": [],
   "source": [
    "sns.distplot(df['target'],rug=True)\n",
    "plt.show()"
   ]
  },
  {
   "cell_type": "code",
   "execution_count": null,
   "metadata": {
    "id": "D57GX2pm327o"
   },
   "outputs": [],
   "source": [
    "pd.crosstab(df.age,df.target).plot(kind=\"bar\",figsize=(25,8),color=['gold','brown' ])\n",
    "plt.title('Heart Disease Frequency for Ages')\n",
    "plt.xlabel('Age')\n",
    "plt.ylabel('Frequency')\n",
    "plt.show()"
   ]
  },
  {
   "cell_type": "code",
   "execution_count": null,
   "metadata": {
    "id": "XTje1-NI35-C"
   },
   "outputs": [],
   "source": [
    "pd.crosstab(df.sex,df.target).plot(kind=\"bar\",figsize=(10,5),color=['cyan','coral' ])\n",
    "plt.xlabel('Sex (0 = Female, 1 = Male)')\n",
    "plt.xticks(rotation=0)\n",
    "plt.legend([\"Haven't Disease\", \"Have Disease\"])\n",
    "plt.ylabel('Frequency')\n",
    "plt.show()"
   ]
  },
  {
   "cell_type": "code",
   "execution_count": null,
   "metadata": {
    "id": "5WMr8sJm3-AO"
   },
   "outputs": [],
   "source": [
    "plt.figure(figsize=(12,8))\n",
    "sns.boxplot(df['target'], df['trestbps'], palette = 'rainbow')\n",
    "plt.title('Relation of tresbps with target', fontsize = 10)"
   ]
  },
  {
   "cell_type": "code",
   "execution_count": null,
   "metadata": {
    "id": "F8EgRFHb3-6n"
   },
   "outputs": [],
   "source": [
    "# sns.pairplot(data=df)"
   ]
  },
  {
   "cell_type": "code",
   "execution_count": null,
   "metadata": {
    "id": "pYDOQFpd4CTd"
   },
   "outputs": [],
   "source": [
    "pd.crosstab(df.cp,df.target).plot(kind=\"bar\",figsize=(10,5),color=['tomato','indigo' ])\n",
    "plt.xlabel('Chest Pain Type')\n",
    "plt.xticks(rotation = 0)\n",
    "plt.ylabel('Frequency of Disease or Not')\n",
    "plt.show()"
   ]
  },
  {
   "cell_type": "code",
   "execution_count": null,
   "metadata": {
    "id": "9hCcWqfk4Cha"
   },
   "outputs": [],
   "source": [
    "plt.figure(figsize=(16,8))\n",
    "plt.subplot(2,2,1)\n",
    "plt.scatter(x=df.age[df.target==1],y=df.thalach[df.target==1],c='blue')\n",
    "plt.scatter(x=df.age[df.target==0],y=df.thalach[df.target==0],c='black')\n",
    "plt.xlabel('Age')\n",
    "plt.ylabel('Max Heart Rate')\n",
    "plt.legend(['Disease','No Disease'])\n",
    "\n",
    "plt.subplot(2,2,2)\n",
    "plt.scatter(x=df.age[df.target==1],y=df.chol[df.target==1],c='red')\n",
    "plt.scatter(x=df.age[df.target==0],y=df.chol[df.target==0],c='green')\n",
    "plt.xlabel('Age')\n",
    "plt.ylabel('Cholesterol')\n",
    "plt.legend(['Disease','No Disease'])\n",
    "\n",
    "plt.subplot(2,2,3)\n",
    "plt.scatter(x=df.age[df.target==1],y=df.trestbps[df.target==1],c='cyan')\n",
    "plt.scatter(x=df.age[df.target==0],y=df.trestbps[df.target==0],c='fuchsia')\n",
    "plt.xlabel('Age')\n",
    "plt.ylabel('Resting Blood Pressure')\n",
    "plt.legend(['Disease','No Disease'])\n",
    "\n",
    "plt.subplot(2,2,4)\n",
    "plt.scatter(x=df.age[df.target==1],y=df.oldpeak[df.target==1],c='grey')\n",
    "plt.scatter(x=df.age[df.target==0],y=df.oldpeak[df.target==0],c='navy')\n",
    "plt.xlabel('Age')\n",
    "plt.ylabel('ST depression')\n",
    "plt.legend(['Disease','No Disease'])\n",
    "plt.show()"
   ]
  },
  {
   "cell_type": "code",
   "execution_count": null,
   "metadata": {
    "id": "M9ncy2Ch4CrG"
   },
   "outputs": [],
   "source": [
    "chest_pain=pd.get_dummies(df['cp'],prefix='cp',drop_first=True)\n",
    "df=pd.concat([df,chest_pain],axis=1)\n",
    "df.drop(['cp'],axis=1,inplace=True)\n",
    "sp=pd.get_dummies(df['slope'],prefix='slope')\n",
    "th=pd.get_dummies(df['thal'],prefix='thal')\n",
    "rest_ecg=pd.get_dummies(df['restecg'],prefix='restecg')\n",
    "frames=[df,sp,th,rest_ecg]\n",
    "df=pd.concat(frames,axis=1)\n",
    "df.drop(['slope','thal','restecg'],axis=1,inplace=True)"
   ]
  },
  {
   "cell_type": "code",
   "execution_count": null,
   "metadata": {
    "id": "5LoVTS3q4CzP"
   },
   "outputs": [],
   "source": [
    "df.head()"
   ]
  },
  {
   "cell_type": "code",
   "execution_count": null,
   "metadata": {
    "id": "04z6GY6V6ypA"
   },
   "outputs": [],
   "source": [
    "X = df.drop(['target'], axis = 1)\n",
    "y = df.target.values"
   ]
  },
  {
   "cell_type": "code",
   "execution_count": null,
   "metadata": {
    "id": "pbnu8mHs609j"
   },
   "outputs": [],
   "source": [
    "from sklearn.model_selection import train_test_split\n",
    "X_train, X_test, y_train, y_test = train_test_split(X, y, test_size = 0.2, random_state = 0)"
   ]
  },
  {
   "cell_type": "code",
   "execution_count": null,
   "metadata": {
    "id": "2RxVV8Xl64x2"
   },
   "outputs": [],
   "source": [
    "from sklearn.preprocessing import StandardScaler\n",
    "sc = StandardScaler()\n",
    "X_train = sc.fit_transform(X_train)\n",
    "X_test = sc.transform(X_test)"
   ]
  },
  {
   "cell_type": "code",
   "execution_count": null,
   "metadata": {
    "id": "pqLR2T9n64-b"
   },
   "outputs": [],
   "source": [
    "from keras.models import Sequential\n",
    "from keras.layers import Conv2D, MaxPooling2D\n",
    "from keras.layers import Activation, Dropout, Flatten, Dense\n",
    "import keras\n",
    "from keras.models import Sequential\n",
    "from keras.layers import Dense\n",
    "import warnings"
   ]
  },
  {
   "cell_type": "code",
   "execution_count": null,
   "metadata": {
    "id": "u3NIRgt27AEe"
   },
   "outputs": [],
   "source": [
    "classifier = Sequential()\n",
    "\n",
    "# Adding the input layer and the first hidden layer\n",
    "classifier.add(Dense(units = 11, kernel_initializer = 'uniform', activation = 'relu', input_dim = 22))\n",
    "\n",
    "# Adding the second hidden layer\n",
    "classifier.add(Dense(units = 11, kernel_initializer = 'uniform', activation = 'relu'))\n",
    "\n",
    "# Adding the output layer\n",
    "classifier.add(Dense(units = 1, kernel_initializer = 'uniform', activation = 'sigmoid'))\n",
    "\n",
    "# Compiling the ANN\n",
    "classifier.compile(optimizer = 'adam', loss = 'binary_crossentropy', metrics = ['accuracy'])"
   ]
  },
  {
   "cell_type": "code",
   "execution_count": null,
   "metadata": {
    "id": "diwA3Ezt7VBw"
   },
   "outputs": [],
   "source": [
    "# Fitting the model\n",
    "classifier.fit(X_train, y_train, batch_size = 10, epochs = 100)"
   ]
  },
  {
   "cell_type": "code",
   "execution_count": 76,
   "metadata": {
    "colab": {
     "base_uri": "https://localhost:8080/"
    },
    "id": "2IgjeGPusXI9",
    "outputId": "1299db97-8135-4a6a-80e9-61f16f6b4ce4"
   },
   "outputs": [
    {
     "name": "stdout",
     "output_type": "stream",
     "text": [
      "8/8 [==============================] - 1s 3ms/step - loss: 0.6881 - accuracy: 0.5408\n"
     ]
    },
    {
     "data": {
      "text/plain": [
       "<keras.callbacks.History at 0x7f5c0a342f90>"
      ]
     },
     "execution_count": 76,
     "metadata": {
      "tags": []
     },
     "output_type": "execute_result"
    }
   ],
   "source": [
    "def get_model():\n",
    "    inputs = keras.Input(shape=(22,))\n",
    "    outputs = keras.layers.Dense(units = 1, kernel_initializer = 'uniform', activation = 'sigmoid')(inputs)\n",
    "    model = keras.Model(inputs, outputs)\n",
    "    model.compile(optimizer=\"adam\", loss=\"binary_crossentropy\", metrics = ['accuracy'])\n",
    "    return model\n",
    "\n",
    "\n",
    "model = get_model()\n",
    "\n",
    "test_input = X_train\n",
    "test_target = y_train\n",
    "model.fit(test_input, test_target)"
   ]
  },
  {
   "cell_type": "code",
   "execution_count": 77,
   "metadata": {
    "id": "tczr7nFNoeCo"
   },
   "outputs": [],
   "source": [
    "from keras.models import model_from_json\n",
    "model.save(\"ANN_model.h5\")"
   ]
  },
  {
   "cell_type": "code",
   "execution_count": 83,
   "metadata": {
    "colab": {
     "base_uri": "https://localhost:8080/"
    },
    "id": "5JBd4MpQvhxq",
    "outputId": "35505d1e-2166-46d2-bcf7-97b3137a5636"
   },
   "outputs": [
    {
     "name": "stdout",
     "output_type": "stream",
     "text": [
      "8/8 [==============================] - 0s 2ms/step - loss: 0.6676 - accuracy: 0.6736\n",
      "<keras.callbacks.History object at 0x7f5c0dcd2450>\n"
     ]
    }
   ],
   "source": [
    "load = keras.models.load_model(\"/content/ANN_model.h5\")\n",
    "np.testing.assert_allclose(\n",
    "    model.predict(test_input), load.predict(test_input)\n",
    ")\n",
    "load.fit(test_input, test_target)\n"
   ]
  },
  {
   "cell_type": "code",
   "execution_count": 86,
   "metadata": {
    "id": "crs5J5I6SNqV"
   },
   "outputs": [],
   "source": [
    "###########################\n",
    "from sklearn.preprocessing import MinMaxScaler\n",
    "import numpy as np\n",
    "model = keras.models.load_model(\"/content/ANN_model.h5\")\n",
    "X = [[50.0, 90.0, 2.0, 1.02, 1.0, 1.0, 1.0, 0, 70.0,\n",
    "      107.0, 7.2, 3.7, 12100.0, 1.0, 1.0, 0.0, 0.0, 1.0,2.0,2.0,21.0, 5.0]]\n",
    "sc = MinMaxScaler(feature_range=(0, 1))\n",
    "dataset_scaled = sc.fit_transform(X)\n",
    "\n",
    "float_features = [float(x) for x in range(1,23)]\n",
    "final_features = [np.array(float_features)]\n",
    "prediction = model.predict(sc.transform(final_features))\n"
   ]
  },
  {
   "cell_type": "code",
   "execution_count": 93,
   "metadata": {
    "colab": {
     "base_uri": "https://localhost:8080/",
     "height": 35
    },
    "id": "pSQ-P0pl1RjG",
    "outputId": "24e805b6-efab-4ca6-aa4c-3aff5bfc406d"
   },
   "outputs": [
    {
     "data": {
      "application/vnd.google.colaboratory.intrinsic+json": {
       "type": "string"
      },
      "text/plain": [
       "'You have a HeartDisease!'"
      ]
     },
     "execution_count": 93,
     "metadata": {
      "tags": []
     },
     "output_type": "execute_result"
    }
   ],
   "source": [
    "# Prediction using artificial neural networks\n",
    "\n",
    "from sklearn.model_selection import train_test_split\n",
    "import keras\n",
    "import math\n",
    "from sklearn.preprocessing import MinMaxScaler\n",
    "import numpy as np\n",
    "from flask import Flask, request, render_template\n",
    "from keras.models import load_model\n",
    "import flask\n",
    "import numpy as np\n",
    "import tensorflow as tf\n",
    "\n",
    "def init():\n",
    "    global model\n",
    "    model = load_model(\"/content/ANN_model.h5\")\n",
    "    return model\n",
    "\n",
    "\n",
    "Test = [[50.0, 90.0, 2.0, 1.02, 1.0, 1.0, 1.0, 0, 70.0,\n",
    "         107.0, 7.2, 3.7, 12100.0, 1.0, 1.0, 0.0, 0.0, 1.0, 2.0, 2.0, 21.0, 5.0]]\n",
    "sc = MinMaxScaler(feature_range=(0, 1))\n",
    "dataset_scaled = sc.fit_transform(Test)\n",
    "\n",
    "\n",
    "\n",
    "def predict():\n",
    "    flask_user_inputs = 50.0, 90.0, 2.0, 1.02, 1.0, 1.0, 1.0, 0, 70.0,107.0, 7.2, 3.7, 12100.0, 1.0, 1.0, 0.0, 0.0, 1.0, 2.0, 2.0, 21.0, 5.0\n",
    "    float_features = [float(x) for x in flask_user_inputs]\n",
    "    final_features = [np.array(float_features)]\n",
    "    prediction = init().predict(sc.transform(final_features))\n",
    "    if (prediction > 0.5) or (prediction == 1.0):\n",
    "        pred = \"You have a HeartDisease!\"\n",
    "    elif (prediction < 0.5) or (prediction == 0):\n",
    "        pred = \"You don't have a HeartDisease\"\n",
    "    return pred\n",
    "    \n",
    "\n",
    "\n",
    "predict()\n",
    "\n",
    "\n"
   ]
  },
  {
   "cell_type": "code",
   "execution_count": 81,
   "metadata": {
    "id": "b4Hc4TWQ7tfW"
   },
   "outputs": [],
   "source": [
    "# Predicting the Test set results\n",
    "y_pred = classifier.predict(X_test)\n",
    "y_pred = (y_pred > 0.5)"
   ]
  },
  {
   "cell_type": "code",
   "execution_count": 82,
   "metadata": {
    "colab": {
     "base_uri": "https://localhost:8080/"
    },
    "id": "rDJ_KS837xhj",
    "outputId": "6e2f0c6f-8600-4cbd-b139-c5f6134425e4"
   },
   "outputs": [
    {
     "name": "stdout",
     "output_type": "stream",
     "text": [
      "ANN Accuracy:  86.88524590163934\n"
     ]
    }
   ],
   "source": [
    "\n",
    "from sklearn.metrics import accuracy_score\n",
    "ac=accuracy_score(y_test, y_pred.round())\n",
    "print(\"ANN Accuracy: \", ac * 100)"
   ]
  },
  {
   "cell_type": "code",
   "execution_count": null,
   "metadata": {
    "colab": {
     "base_uri": "https://localhost:8080/",
     "height": 316
    },
    "id": "x769eVjy8ksq",
    "outputId": "f57ae467-0e83-436f-a6f7-75b7ee23444b"
   },
   "outputs": [
    {
     "data": {
      "text/plain": [
       "Text(0.5, 1.0, 'ANN Confusion Matrix')"
      ]
     },
     "execution_count": 82,
     "metadata": {
      "tags": []
     },
     "output_type": "execute_result"
    },
    {
     "data": {
      "image/png": "[encoded data removed]",
      "text/plain": [
       "<Figure size 432x288 with 1 Axes>"
      ]
     },
     "metadata": {
      "needs_background": "light",
      "tags": []
     },
     "output_type": "display_data"
    }
   ],
   "source": [
    "cm = confusion_matrix(y_test, y_pred.round())\n",
    "sns.heatmap(cm,annot=True,cmap=\"Greens\",fmt=\"d\",cbar=False)\n",
    "plt.title(\"ANN Confusion Matrix\")"
   ]
  },
  {
   "cell_type": "code",
   "execution_count": null,
   "metadata": {
    "id": "Ui5AILXJ77jM"
   },
   "outputs": [],
   "source": [
    "# Random forest model\n",
    "import matplotlib.pyplot as plt\n",
    "import seaborn as sns\n",
    "from sklearn.ensemble import RandomForestClassifier\n",
    "\n",
    "\n",
    "rf = RandomForestClassifier(n_estimators=10,criterion='entropy',random_state=0)\n",
    "rf.fit(X_train, y_train)"
   ]
  },
  {
   "cell_type": "code",
   "execution_count": null,
   "metadata": {
    "id": "OJHZxxyIBdrN"
   },
   "outputs": [],
   "source": [
    "rf_predict = rf.predict(X_test)"
   ]
  },
  {
   "cell_type": "code",
   "execution_count": null,
   "metadata": {
    "colab": {
     "base_uri": "https://localhost:8080/"
    },
    "id": "kbet_1d_CpEk",
    "outputId": "8be6a650-1d77-445f-bb81-44a5ab2adaec"
   },
   "outputs": [
    {
     "name": "stdout",
     "output_type": "stream",
     "text": [
      "Random Forest Accuracy:  80.32786885245902\n"
     ]
    }
   ],
   "source": [
    "# rf accuracy\n",
    "from sklearn.metrics import accuracy_score\n",
    "ac=accuracy_score(rf_predict, y_test)\n",
    "print('Random Forest Accuracy: ',ac * 100)"
   ]
  },
  {
   "cell_type": "code",
   "execution_count": null,
   "metadata": {
    "colab": {
     "base_uri": "https://localhost:8080/",
     "height": 298
    },
    "id": "4WW10iJW83SM",
    "outputId": "808f1a92-0b24-49b2-b368-1f3338dbf552"
   },
   "outputs": [
    {
     "data": {
      "text/plain": [
       "Text(0.5, 1.0, 'Random Forest Confusion Matrix')"
      ]
     },
     "execution_count": 111,
     "metadata": {
      "tags": []
     },
     "output_type": "execute_result"
    },
    {
     "data": {
      "image/png": "[encoded data removed]",
      "text/plain": [
       "<Figure size 432x288 with 1 Axes>"
      ]
     },
     "metadata": {
      "needs_background": "light",
      "tags": []
     },
     "output_type": "display_data"
    }
   ],
   "source": [
    "# confusion matrix for random forest cancer\n",
    "from sklearn.metrics import confusion_matrix\n",
    "cm = confusion_matrix(y_test, rf_predict)\n",
    "sns.heatmap(cm,annot=True,cmap=\"Greens\",fmt=\"d\",cbar=False)\n",
    "plt.title(\"Random Forest Confusion Matrix\")"
   ]
  }
 ],
 "metadata": {
  "colab": {
   "collapsed_sections": [],
   "name": "Ann_test_Heart2.ipynb",
   "provenance": []
  },
  "kernelspec": {
   "display_name": "Python 3",
   "language": "python",
   "name": "python3"
  },
  "language_info": {
   "codemirror_mode": {
    "name": "ipython",
    "version": 3
   },
   "file_extension": ".py",
   "mimetype": "text/x-python",
   "name": "python",
   "nbconvert_exporter": "python",
   "pygments_lexer": "ipython3",
   "version": "3.9.2"
  }
 },
 "nbformat": 4,
 "nbformat_minor": 4
}
